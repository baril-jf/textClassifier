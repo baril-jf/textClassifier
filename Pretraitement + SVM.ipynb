{
 "cells": [
  {
   "cell_type": "code",
   "execution_count": 1,
   "metadata": {},
   "outputs": [],
   "source": [
    "import pickle\n",
    "import pandas as pd\n",
    "import re\n",
    "import nltk\n",
    "from nltk.corpus import stopwords\n",
    "from nltk.stem import WordNetLemmatizer\n",
    "from sklearn.feature_extraction.text import TfidfVectorizer\n",
    "from sklearn.model_selection import train_test_split\n",
    "from sklearn.feature_selection import chi2\n",
    "import numpy as np"
   ]
  },
  {
   "cell_type": "code",
   "execution_count": 2,
   "metadata": {},
   "outputs": [],
   "source": [
    "\n",
    "data = pd.read_csv('C:\\\\Users\\\\baril\\\\OneDrive\\\\Desktop\\\\3395Compe\\\\train.csv', sep = ',', header=0).to_numpy()\n",
    "data = pd.DataFrame(data = data[:,1:3], columns = [\"Article\", \"Categorie\"])\n",
    "#data.head()\n"
   ]
  },
  {
   "cell_type": "code",
   "execution_count": 3,
   "metadata": {},
   "outputs": [],
   "source": [
    "\n",
    "data['Article_mod'] = data['Article'].str.replace(\"\\r\", \" \")\n",
    "data['Article_mod'] = data['Article_mod'].str.replace(\"\\n\", \" \")\n",
    "data['Article_mod'] = data['Article_mod'].str.replace(\"    \", \" \")\n",
    "data['Article_mod'] = data['Article_mod'].str.replace('\"', '')\n",
    "data['Article_mod'] = data['Article_mod'].str.lower()\n",
    "punctuation_signs = list(\"?:!.,;\")\n",
    "\n",
    "for punct_sign in punctuation_signs:\n",
    "    data['Article_mod'] = data['Article_mod'].str.replace(punct_sign, '')\n",
    "data['Article_mod'] = data['Article_mod'].str.replace(\"'s\", \"\")\n"
   ]
  },
  {
   "cell_type": "code",
   "execution_count": 4,
   "metadata": {},
   "outputs": [
    {
     "name": "stderr",
     "output_type": "stream",
     "text": [
      "[nltk_data] Downloading package punkt to C:\\Users\\baril/nltk_data...\n",
      "[nltk_data]   Package punkt is already up-to-date!\n",
      "[nltk_data] Downloading package wordnet to C:\\Users\\baril/nltk_data...\n",
      "[nltk_data]   Package wordnet is already up-to-date!\n"
     ]
    }
   ],
   "source": [
    "nltk.download('punkt')\n",
    "nltk.download('wordnet')\n",
    "\n",
    "lemmatizer = WordNetLemmatizer()\n",
    "n_obs = len(data)\n",
    "word_bag_list = [] #tous les sacs du DF\n",
    "\n",
    "for ligne in range(n_obs):\n",
    "    word_bag = [] #sac de mot par article\n",
    "    \n",
    "    texte= data.loc[ligne]['Article_mod']\n",
    "    mots = texte.split(\" \")\n",
    "\n",
    "    for mot in mots:\n",
    "        word_bag.append(lemmatizer.lemmatize(mot, pos=\"v\"))\n",
    "        \n",
    "    text_split = \" \".join(word_bag)\n",
    "    \n",
    "    word_bag_list.append(text_split)\n",
    "\n",
    "data['Article_mod'] = word_bag_list"
   ]
  },
  {
   "cell_type": "code",
   "execution_count": 5,
   "metadata": {},
   "outputs": [
    {
     "name": "stderr",
     "output_type": "stream",
     "text": [
      "[nltk_data] Downloading package stopwords to\n",
      "[nltk_data]     C:\\Users\\baril/nltk_data...\n",
      "[nltk_data]   Package stopwords is already up-to-date!\n"
     ]
    }
   ],
   "source": [
    "nltk.download('stopwords')\n",
    "\n",
    "no_word = list(stopwords.words('english'))\n",
    "\n",
    "for mot in no_word:\n",
    "    reg = r\"\\b\" + mot + r\"\\b\"\n",
    "    data['Article_mod'] = data['Article_mod'].str.replace(reg, '')"
   ]
  },
  {
   "cell_type": "code",
   "execution_count": 6,
   "metadata": {},
   "outputs": [],
   "source": [
    "list_columns = [\"Categorie\", \"Article\", \"Article_mod\"]\n",
    "data = data[list_columns]\n",
    "np.unique(data.Categorie)\n",
    "categorie_codes = {\n",
    "    'astro-ph': 0,\n",
    "    'astro-ph.CO': 1,\n",
    "    'astro-ph.GA': 2,\n",
    "    'astro-ph.SR': 3,\n",
    "    'cond-mat.mes-hall': 4,\n",
    "    'cond-mat.mtrl-sci': 5,\n",
    "    'cs.LG': 6,\n",
    "    'gr-qc': 7,\n",
    "    'hep-ph' : 8,\n",
    "    'hep-th' : 9,\n",
    "    'math.AP' : 10,\n",
    "    'math.CO' : 11,\n",
    "    'physics.optics' : 12,\n",
    "    'quant-ph' : 13,\n",
    "    'stat.ML' : 14\n",
    "}\n",
    "data['Categorie_Codes'] = data['Categorie']\n",
    "data = data.replace({'Categorie_Codes':categorie_codes})\n",
    "#data.head()"
   ]
  },
  {
   "cell_type": "code",
   "execution_count": 85,
   "metadata": {},
   "outputs": [],
   "source": [
    "train_x, test_x, train_y, test_y = train_test_split(data['Article_mod'], \n",
    "                                                   data['Categorie_Codes'],\n",
    "                                                   test_size=0.2,\n",
    "                                                   random_state=11)  \n",
    "train_x_ast = train_x[train_y < 3]\n",
    "train_y_ast = train_y[train_y < 3]\n"
   ]
  },
  {
   "cell_type": "code",
   "execution_count": 86,
   "metadata": {},
   "outputs": [],
   "source": [
    "\n",
    "#TFIDF\n",
    "ngram_range = (1,2)\n",
    "min_df = 10\n",
    "max_df = 1.\n",
    "max_features = 3000\n",
    "\n",
    "tfidf = TfidfVectorizer(encoding='utf-8',\n",
    "                        ngram_range=(1,2),\n",
    "                        stop_words=None,\n",
    "                        lowercase=False,\n",
    "                        max_df=max_df,\n",
    "                        min_df=min_df,\n",
    "                        max_features=max_features, ##à jouer avec\n",
    "                        norm='l2',\n",
    "                        sublinear_tf=True)\n",
    "                        \n",
    "train_x = tfidf.fit_transform(train_x).toarray()\n",
    "test_x = tfidf.transform(test_x).toarray()"
   ]
  },
  {
   "cell_type": "code",
   "execution_count": null,
   "metadata": {},
   "outputs": [],
   "source": [
    "from sklearn import svm\n",
    "from sklearn.metrics import accuracy_score\n",
    "np.random.seed(42)\n",
    "\n",
    "SVM = svm.SVC(kernel='rbf')\n",
    "SVM.fit(train_x,train_y)\n",
    "\n",
    "pred_tout = SVM.predict(test_x)\n",
    "   \n",
    "print(\"SVM Accuracy Score (Validation) -> \",accuracy_score(pred_tout, test_y)*100)"
   ]
  },
  {
   "cell_type": "code",
   "execution_count": null,
   "metadata": {},
   "outputs": [],
   "source": [
    "from sklearn.metrics import classification_report, confusion_matrix, accuracy_score\n",
    "import matplotlib.pyplot as plt\n",
    "import seaborn as sns\n",
    "aux_df = data[['Categorie', 'Categorie_Codes']].drop_duplicates().sort_values('Categorie_Codes')\n",
    "conf_matrix = confusion_matrix(test_y, pred_tout)\n",
    "plt.figure(figsize=(12.8,6))\n",
    "sns.heatmap(conf_matrix, \n",
    "            annot=True,\n",
    "            xticklabels=aux_df['Categorie'].values, \n",
    "            yticklabels=aux_df['Categorie'].values,\n",
    "            cmap=\"Blues\")\n",
    "plt.ylabel('Predicted')\n",
    "plt.xlabel('Actual')\n",
    "plt.title('Confusion matrix')\n",
    "plt.show()"
   ]
  },
  {
   "cell_type": "code",
   "execution_count": null,
   "metadata": {},
   "outputs": [],
   "source": [
    "indices_refaire = np.where(pred_tout <3)\n",
    "test_x_refaire = test_x_ast.iloc[indices_refaire]\n",
    "test_y_refaire = test_y_ast.iloc[indices_refaire]"
   ]
  },
  {
   "cell_type": "code",
   "execution_count": null,
   "metadata": {},
   "outputs": [],
   "source": [
    "train_x_2 = train_x_ast.copy()"
   ]
  },
  {
   "cell_type": "code",
   "execution_count": 61,
   "metadata": {},
   "outputs": [
    {
     "ename": "IndexingError",
     "evalue": "Unalignable boolean Series provided as indexer (index of the boolean Series and of the indexed object do not match).",
     "output_type": "error",
     "traceback": [
      "\u001b[1;31m---------------------------------------------------------------------------\u001b[0m",
      "\u001b[1;31mIndexingError\u001b[0m                             Traceback (most recent call last)",
      "\u001b[1;32m<ipython-input-61-4c3bac90f8d6>\u001b[0m in \u001b[0;36m<module>\u001b[1;34m\u001b[0m\n\u001b[0;32m      7\u001b[0m \u001b[0mtrain_y_ast\u001b[0m \u001b[1;33m=\u001b[0m \u001b[0mtrain_y_ast\u001b[0m\u001b[1;33m[\u001b[0m\u001b[0mtrain_y_ast\u001b[0m \u001b[1;33m<\u001b[0m \u001b[1;36m3\u001b[0m\u001b[1;33m]\u001b[0m\u001b[1;33m\u001b[0m\u001b[1;33m\u001b[0m\u001b[0m\n\u001b[0;32m      8\u001b[0m \u001b[1;33m\u001b[0m\u001b[0m\n\u001b[1;32m----> 9\u001b[1;33m \u001b[0mtrain_x_ast\u001b[0m \u001b[1;33m=\u001b[0m \u001b[0mtrain_x_ast\u001b[0m\u001b[1;33m[\u001b[0m\u001b[0mtrain_y_ast\u001b[0m \u001b[1;33m<\u001b[0m \u001b[1;36m3\u001b[0m\u001b[1;33m]\u001b[0m\u001b[1;33m\u001b[0m\u001b[1;33m\u001b[0m\u001b[0m\n\u001b[0m\u001b[0;32m     10\u001b[0m \u001b[1;33m\u001b[0m\u001b[0m\n\u001b[0;32m     11\u001b[0m tfidf = TfidfVectorizer(encoding='utf-8',\n",
      "\u001b[1;32m~\\anaconda3\\lib\\site-packages\\pandas\\core\\series.py\u001b[0m in \u001b[0;36m__getitem__\u001b[1;34m(self, key)\u001b[0m\n\u001b[0;32m    900\u001b[0m \u001b[1;33m\u001b[0m\u001b[0m\n\u001b[0;32m    901\u001b[0m         \u001b[1;32mif\u001b[0m \u001b[0mcom\u001b[0m\u001b[1;33m.\u001b[0m\u001b[0mis_bool_indexer\u001b[0m\u001b[1;33m(\u001b[0m\u001b[0mkey\u001b[0m\u001b[1;33m)\u001b[0m\u001b[1;33m:\u001b[0m\u001b[1;33m\u001b[0m\u001b[1;33m\u001b[0m\u001b[0m\n\u001b[1;32m--> 902\u001b[1;33m             \u001b[0mkey\u001b[0m \u001b[1;33m=\u001b[0m \u001b[0mcheck_bool_indexer\u001b[0m\u001b[1;33m(\u001b[0m\u001b[0mself\u001b[0m\u001b[1;33m.\u001b[0m\u001b[0mindex\u001b[0m\u001b[1;33m,\u001b[0m \u001b[0mkey\u001b[0m\u001b[1;33m)\u001b[0m\u001b[1;33m\u001b[0m\u001b[1;33m\u001b[0m\u001b[0m\n\u001b[0m\u001b[0;32m    903\u001b[0m             \u001b[0mkey\u001b[0m \u001b[1;33m=\u001b[0m \u001b[0mnp\u001b[0m\u001b[1;33m.\u001b[0m\u001b[0masarray\u001b[0m\u001b[1;33m(\u001b[0m\u001b[0mkey\u001b[0m\u001b[1;33m,\u001b[0m \u001b[0mdtype\u001b[0m\u001b[1;33m=\u001b[0m\u001b[0mbool\u001b[0m\u001b[1;33m)\u001b[0m\u001b[1;33m\u001b[0m\u001b[1;33m\u001b[0m\u001b[0m\n\u001b[0;32m    904\u001b[0m             \u001b[1;32mreturn\u001b[0m \u001b[0mself\u001b[0m\u001b[1;33m.\u001b[0m\u001b[0m_get_values\u001b[0m\u001b[1;33m(\u001b[0m\u001b[0mkey\u001b[0m\u001b[1;33m)\u001b[0m\u001b[1;33m\u001b[0m\u001b[1;33m\u001b[0m\u001b[0m\n",
      "\u001b[1;32m~\\anaconda3\\lib\\site-packages\\pandas\\core\\indexing.py\u001b[0m in \u001b[0;36mcheck_bool_indexer\u001b[1;34m(index, key)\u001b[0m\n\u001b[0;32m   2183\u001b[0m         \u001b[1;32mif\u001b[0m \u001b[0mmask\u001b[0m\u001b[1;33m.\u001b[0m\u001b[0many\u001b[0m\u001b[1;33m(\u001b[0m\u001b[1;33m)\u001b[0m\u001b[1;33m:\u001b[0m\u001b[1;33m\u001b[0m\u001b[1;33m\u001b[0m\u001b[0m\n\u001b[0;32m   2184\u001b[0m             raise IndexingError(\n\u001b[1;32m-> 2185\u001b[1;33m                 \u001b[1;34m\"Unalignable boolean Series provided as \"\u001b[0m\u001b[1;33m\u001b[0m\u001b[1;33m\u001b[0m\u001b[0m\n\u001b[0m\u001b[0;32m   2186\u001b[0m                 \u001b[1;34m\"indexer (index of the boolean Series and of \"\u001b[0m\u001b[1;33m\u001b[0m\u001b[1;33m\u001b[0m\u001b[0m\n\u001b[0;32m   2187\u001b[0m                 \u001b[1;34m\"the indexed object do not match).\"\u001b[0m\u001b[1;33m\u001b[0m\u001b[1;33m\u001b[0m\u001b[0m\n",
      "\u001b[1;31mIndexingError\u001b[0m: Unalignable boolean Series provided as indexer (index of the boolean Series and of the indexed object do not match)."
     ]
    }
   ],
   "source": [
    "#TFIDF\n",
    "ngram_range = (1,1)\n",
    "min_df = 1\n",
    "max_df = 125\n",
    "max_features = 10000\n",
    "train_y_ast = test_y.copy()\n",
    "train_y_ast = train_y_ast[train_y_ast < 3]\n",
    "\n",
    "train_x_ast = train_x_ast[train_y_ast < 3]\n",
    "\n",
    "tfidf = TfidfVectorizer(encoding='utf-8',\n",
    "                        ngram_range=(1,2),\n",
    "                        stop_words=None,\n",
    "                        lowercase=False,\n",
    "                        max_df=max_df,\n",
    "                        min_df=min_df,\n",
    "                        max_features=max_features, ##à jouer avec\n",
    "                        norm='l2',\n",
    "                        sublinear_tf=True)\n",
    "                        \n",
    "#train_x_ast = tfidf.fit_transform(train_x_ast).toarray()\n",
    "#test_x_refaire = tfidf.transform(test_x_refaire).toarray()"
   ]
  },
  {
   "cell_type": "code",
   "execution_count": null,
   "metadata": {},
   "outputs": [],
   "source": [
    "SVMAstro = svm.SVC(kernel='rbf')\n",
    "SVMAstro.fit(train_x_ast, train_y_ast)\n",
    "pred_astro = SVMAstro.predict(test_x_refaire)\n",
    "\n",
    "print(\"SVM Accuracy Score (Validation) -> \",accuracy_score(pred_astro, test_y_refaire)*100)"
   ]
  },
  {
   "cell_type": "code",
   "execution_count": null,
   "metadata": {},
   "outputs": [],
   "source": [
    "pred_final = pred_tout.copy()"
   ]
  },
  {
   "cell_type": "code",
   "execution_count": null,
   "metadata": {},
   "outputs": [],
   "source": [
    "for i in range(len(indices_refaire)):\n",
    "    pred_2[indices_refaire[i]] = pred_astro[i]:"
   ]
  },
  {
   "cell_type": "code",
   "execution_count": null,
   "metadata": {},
   "outputs": [],
   "source": [
    "print(\"SVM Accuracy Score (Validation) -> \",accuracy_score(pred_final, test_y)*100)\n",
    "print(\"SVM Accuracy Score (Validation) -> \",accuracy_score(pred_tout, test_y)*100)\n",
    "print(\"SVM Accuracy Score (Validation) -> \",accuracy_score(pred_astro, test_y)*100)\n"
   ]
  },
  {
   "cell_type": "code",
   "execution_count": null,
   "metadata": {},
   "outputs": [],
   "source": [
    "from sklearn.metrics import classification_report, confusion_matrix, accuracy_score\n",
    "import matplotlib.pyplot as plt\n",
    "import seaborn as sns\n",
    "aux_df = data[['Categorie', 'Categorie_Codes']].drop_duplicates().sort_values('Categorie_Codes')\n",
    "conf_matrix = confusion_matrix(test_y, predictions_SVM)\n",
    "plt.figure(figsize=(12.8,6))\n",
    "sns.heatmap(conf_matrix, \n",
    "            annot=True,\n",
    "            xticklabels=aux_df['Categorie'].values, \n",
    "            yticklabels=aux_df['Categorie'].values,\n",
    "            cmap=\"Blues\")\n",
    "plt.ylabel('Predicted')\n",
    "plt.xlabel('Actual')\n",
    "plt.title('Confusion matrix')\n",
    "plt.show()"
   ]
  }
 ],
 "metadata": {
  "kernelspec": {
   "display_name": "Python 3",
   "language": "python",
   "name": "python3"
  },
  "language_info": {
   "codemirror_mode": {
    "name": "ipython",
    "version": 3
   },
   "file_extension": ".py",
   "mimetype": "text/x-python",
   "name": "python",
   "nbconvert_exporter": "python",
   "pygments_lexer": "ipython3",
   "version": "3.7.9"
  }
 },
 "nbformat": 4,
 "nbformat_minor": 4
}
